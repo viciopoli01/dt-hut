{
 "cells": [
  {
   "cell_type": "code",
   "execution_count": 1,
   "metadata": {},
   "outputs": [
    {
     "name": "stdout",
     "output_type": "stream",
     "text": [
      "(480, 474, 3)\n",
      "(410, 492, 3)\n"
     ]
    }
   ],
   "source": [
    "import cv2\n",
    "import numpy as np\n",
    "\n",
    "# read and scale images\n",
    "duckie_img = cv2.imread('duckie.jpg')\n",
    "\n",
    "location_img = cv2.imread('location-icon.png')\n",
    "location_img = cv2.resize(location_img, dsize=None, fx=2, fy=2)\n",
    "\n",
    "customer_img = cv2.imread('customer_duckie.jpg')\n",
    "customer_img = cv2.resize(customer_img, dsize=None, fx=1.5, fy=1.5)\n",
    "print customer_img.shape\n",
    "\n",
    "print location_img.shape\n"
   ]
  },
  {
   "cell_type": "code",
   "execution_count": 2,
   "metadata": {},
   "outputs": [],
   "source": [
    "def pad_and_write_duckiebot_name(img, name, padding, text_location):\n",
    "    \"\"\"\n",
    "    takes image, pads it and writes the duckiebot name where indicated. text_location is approximately at the bottom of the font, in the middle of the word.\n",
    "    \"\"\"\n",
    "    # padd image to make space for text\n",
    "    padded_img = cv2.copyMakeBorder(img, top=padding[0], right=padding[1], bottom=padding[2], left=padding[3], borderType=cv2.BORDER_CONSTANT, value=(255,255,255))\n",
    "    \n",
    "    # center location depending on name length\n",
    "    delta_char = 30\n",
    "    num_char = len(name)\n",
    "    delta= int((delta_char * num_char)/2)\n",
    "    text_location= (text_location[0] - delta, text_location[1])\n",
    "    print text_location\n",
    "    # write text\n",
    "    color = (0,0,255)\n",
    "    text_image = cv2.putText(padded_img, name, org=text_location, fontFace=cv2.FONT_HERSHEY_SIMPLEX, fontScale=3, color=color, thickness=10)\n",
    "    return text_image"
   ]
  },
  {
   "cell_type": "code",
   "execution_count": 3,
   "metadata": {
    "scrolled": true
   },
   "outputs": [
    {
     "name": "stdout",
     "output_type": "stream",
     "text": [
      "(168, 511)\n",
      "(186, 492)\n",
      "(47, 552)\n"
     ]
    }
   ],
   "source": [
    "duckie_name = 'paco'\n",
    "\n",
    "# add duckiebot name\n",
    "\n",
    "h, w, _ = duckie_img.shape\n",
    "text_duckie = pad_and_write_duckiebot_name(duckie_img, duckie_name, (0,100,90,100),(w/2,int(1.15*h)))\n",
    "\n",
    "h_loc, w_loc, _ = location_img.shape\n",
    "text_location = pad_and_write_duckiebot_name(location_img, duckie_name, (0,30,110,70),((w_loc/2,int(1.2*h_loc))))\n",
    "\n",
    "h_cust, w_cust, _ = customer_img.shape\n",
    "text_customer = pad_and_write_duckiebot_name(customer_img, 'customer', (0,30,100,30),((w_cust/2-70,int(1.15*h_cust))))\n"
   ]
  },
  {
   "cell_type": "code",
   "execution_count": 4,
   "metadata": {},
   "outputs": [
    {
     "data": {
      "text/plain": [
       "255"
      ]
     },
     "execution_count": 4,
     "metadata": {},
     "output_type": "execute_result"
    }
   ],
   "source": [
    "cv2.imshow('duckie_with_text.jpg', text_duckie)\n",
    "cv2.waitKey(20)"
   ]
  },
  {
   "cell_type": "code",
   "execution_count": 56,
   "metadata": {},
   "outputs": [
    {
     "data": {
      "text/plain": [
       "-1"
      ]
     },
     "execution_count": 56,
     "metadata": {},
     "output_type": "execute_result"
    }
   ],
   "source": [
    "cv2.imshow('location_with_text.jpg', text_location)\n",
    "cv2.waitKey(20)"
   ]
  },
  {
   "cell_type": "code",
   "execution_count": 57,
   "metadata": {},
   "outputs": [
    {
     "data": {
      "text/plain": [
       "-1"
      ]
     },
     "execution_count": 57,
     "metadata": {},
     "output_type": "execute_result"
    }
   ],
   "source": [
    "cv2.imshow('customer_with_text.jpg', text_customer)\n",
    "cv2.waitKey(20)"
   ]
  },
  {
   "cell_type": "code",
   "execution_count": 7,
   "metadata": {},
   "outputs": [
    {
     "data": {
      "text/plain": [
       "array([ 3.,  3.,  5.])"
      ]
     },
     "execution_count": 7,
     "metadata": {},
     "output_type": "execute_result"
    }
   ],
   "source": [
    "np.round([2.8999, 3.2, 5.3])"
   ]
  },
  {
   "cell_type": "code",
   "execution_count": null,
   "metadata": {},
   "outputs": [],
   "source": []
  }
 ],
 "metadata": {
  "kernelspec": {
   "display_name": "Python 2",
   "language": "python",
   "name": "python2"
  },
  "language_info": {
   "codemirror_mode": {
    "name": "ipython",
    "version": 2
   },
   "file_extension": ".py",
   "mimetype": "text/x-python",
   "name": "python",
   "nbconvert_exporter": "python",
   "pygments_lexer": "ipython2",
   "version": "2.7.12"
  }
 },
 "nbformat": 4,
 "nbformat_minor": 2
}
